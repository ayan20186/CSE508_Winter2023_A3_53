{
 "cells": [
  {
   "cell_type": "code",
   "execution_count": 51,
   "metadata": {},
   "outputs": [],
   "source": [
    "import os\n",
    "import numpy as np\n",
    "import matplotlib.pyplot as plt\n",
    "from sklearn.metrics import mean_squared_error as mse\n",
    "import networkx as nx\n",
    "import pandas as pd\n",
    "import nltk\n",
    "import copy"
   ]
  },
  {
   "cell_type": "code",
   "execution_count": 79,
   "metadata": {},
   "outputs": [],
   "source": [
    "def import_file(path):\n",
    "    with open(path) as f:\n",
    "        content = f.readlines()\n",
    "\n",
    "    # Process header information\n",
    "    header = [nltk.RegexpTokenizer(r\"\\w+\").tokenize(line) for line in content[:3]]\n",
    "\n",
    "    # Process content\n",
    "    content = [nltk.RegexpTokenizer(r\"\\w+\").tokenize(line) for line in content[3:]]\n",
    "    df = pd.DataFrame(content[1:], columns=content[0])\n",
    "    df[\"FromNodeId\"] = df[\"FromNodeId\"].astype(int)\n",
    "    df[\"ToNodeId\"] = df[\"ToNodeId\"].astype(int)\n",
    "\n",
    "    return header, df"
   ]
  },
  {
   "cell_type": "code",
   "execution_count": 80,
   "metadata": {},
   "outputs": [],
   "source": [
    "def create_graph(content):\n",
    "    G = nx.from_pandas_edgelist(content,source = \"FromNodeId\", target = \"ToNodeId\")\n",
    "    return G.to_directed()\n"
   ]
  },
  {
   "cell_type": "code",
   "execution_count": 81,
   "metadata": {},
   "outputs": [],
   "source": [
    "def update_authorities_or_hubs(G, a, b, type_):\n",
    "    norm = 0\n",
    "    for node in G.nodes():\n",
    "        if type_ == \"authority\":\n",
    "            edges = G.in_edges(node)\n",
    "        else:\n",
    "            edges = G.out_edges(node)\n",
    "        n_edges = len(edges)\n",
    "        a[node] = sum([b[edge[0 if type_ == \"authority\" else 1]] for edge in edges])\n",
    "        norm += a[node] ** 2\n",
    "\n",
    "    norm = np.sqrt(norm)\n",
    "\n",
    "    for node in G.nodes():\n",
    "        a[node] /= norm\n",
    "        \n",
    "def HITS(G, max_iters=100):\n",
    "    n = G.number_of_nodes()\n",
    "    hub = {node: 1 for node in G.nodes()}\n",
    "    authority = {node: 1 for node in G.nodes()}\n",
    "    e1 = []\n",
    "    e2 = []\n",
    "\n",
    "    cur_auth = authority.copy()\n",
    "    cur_hub = hub.copy()\n",
    "    \n",
    "    for _ in range(max_iters):\n",
    "        update_authorities_or_hubs(G,authority,hub,\"authority\")\n",
    "        update_authorities_or_hubs(G,hub,authority,\"hub\")\n",
    "        \n",
    "        e1.append(mse(list(authority.values()),list(cur_auth.values())))\n",
    "        e2.append(mse(list(hub.values()),list(cur_hub.values())))\n",
    "\n",
    "        cur_auth = authority.copy()\n",
    "        cur_hub = hub.copy()\n",
    "        \n",
    "        if e1[-1] < 1e-20 and e2[-1] < 1e-20:\n",
    "            break\n",
    "\n",
    "    return authority, hub, e1[1:], e2[1:]"
   ]
  },
  {
   "cell_type": "code",
   "execution_count": 82,
   "metadata": {},
   "outputs": [],
   "source": [
    "def PageRank(G, d=0.85, max_iters=100):\n",
    "    n = G.number_of_nodes()\n",
    "    rank = {node: 1/n for node in G.nodes()}\n",
    "    node_val = {node: 0 for node in G.nodes()}\n",
    "    error = []\n",
    "    \n",
    "    for _ in range(max_iters):\n",
    "        for node in G.nodes():\n",
    "            out = G.out_edges(node)\n",
    "            n_edges = len(out)\n",
    "            for edge in out:\n",
    "                node_val[edge[1]] += rank[edge[0]] / n_edges\n",
    "\n",
    "        for node in G.nodes():\n",
    "            node_val[node] = (1-d)/n + d*node_val[node]\n",
    "        \n",
    "        e = mse(list(rank.values()), list(node_val.values()))\n",
    "        error.append(e)\n",
    "        \n",
    "        rank = node_val.copy()\n",
    "        node_val = {node: 0 for node in G.nodes()}\n",
    "        \n",
    "        if e < 1e-15:\n",
    "            break\n",
    "        \n",
    "    return error, rank\n"
   ]
  },
  {
   "cell_type": "code",
   "execution_count": 83,
   "metadata": {},
   "outputs": [],
   "source": [
    "def sortDict(d, title):\n",
    "    sorted_dict = {key: value for key, value in sorted(d.items(), key=lambda item: item[1], reverse=True)}\n",
    "    print(f\"Top 10 {title} scores:\")\n",
    "    for i, (key, val) in enumerate(sorted_dict.items()):\n",
    "        if i < 10:\n",
    "            print(f\"{key}\\t{val}\")\n",
    "        else:\n",
    "            break\n",
    "    print()\n",
    "    return sorted_dict"
   ]
  },
  {
   "cell_type": "code",
   "execution_count": 84,
   "metadata": {},
   "outputs": [],
   "source": [
    "path = \"Wiki-Vote.txt\"\n",
    "meta, content = import_file(path)\n",
    "G = create_graph(content)"
   ]
  },
  {
   "cell_type": "code",
   "execution_count": 85,
   "metadata": {},
   "outputs": [],
   "source": [
    "error, rank = PageRank(G)"
   ]
  },
  {
   "cell_type": "code",
   "execution_count": 86,
   "metadata": {},
   "outputs": [
    {
     "data": {
      "text/plain": [
       "[<matplotlib.lines.Line2D at 0x1ac0a9fdfa0>]"
      ]
     },
     "execution_count": 86,
     "metadata": {},
     "output_type": "execute_result"
    },
    {
     "data": {
      "image/png": "[encoded data removed]",
      "text/plain": [
       "<Figure size 640x480 with 1 Axes>"
      ]
     },
     "metadata": {},
     "output_type": "display_data"
    }
   ],
   "source": [
    "plt.plot(error)"
   ]
  },
  {
   "cell_type": "code",
   "execution_count": 87,
   "metadata": {},
   "outputs": [],
   "source": [
    "authority, hub, e1, e2 = HITS(G)"
   ]
  },
  {
   "cell_type": "code",
   "execution_count": 88,
   "metadata": {},
   "outputs": [
    {
     "name": "stdout",
     "output_type": "stream",
     "text": [
      "[4.9382220458352065e-06, 1.536110431170553e-07, 8.137574511399859e-09, 4.780125636812147e-10, 3.031384738038773e-11, 2.12809473019362e-12, 1.7473615771530638e-13, 1.758104386338244e-14, 2.1393846990311195e-15, 2.956732030945261e-16, 4.367757711317428e-17, 6.6505165026709295e-18, 1.0257534879404805e-18, 1.590522454513601e-19, 2.4716057513132743e-20, 3.844161163295721e-21]\n"
     ]
    }
   ],
   "source": [
    "print(e1)"
   ]
  },
  {
   "cell_type": "code",
   "execution_count": 89,
   "metadata": {},
   "outputs": [
    {
     "data": {
      "text/plain": [
       "[<matplotlib.lines.Line2D at 0x1ac099df6d0>,\n",
       " <matplotlib.lines.Line2D at 0x1ac099df700>]"
      ]
     },
     "execution_count": 89,
     "metadata": {},
     "output_type": "execute_result"
    },
    {
     "data": {
      "image/png": "[encoded data removed]",
      "text/plain": [
       "<Figure size 640x480 with 1 Axes>"
      ]
     },
     "metadata": {},
     "output_type": "display_data"
    }
   ],
   "source": [
    "plt.plot(e1,'r',e2, 'g')"
   ]
  },
  {
   "cell_type": "code",
   "execution_count": 90,
   "metadata": {},
   "outputs": [
    {
     "name": "stdout",
     "output_type": "stream",
     "text": [
      "top 10 rank scores :\n",
      "2565 \t 0.0043372949187308815\n",
      "11 \t 0.003017206269367328\n",
      "766 \t 0.002968177479349323\n",
      "457 \t 0.002963411320667381\n",
      "4037 \t 0.002878218886740526\n",
      "1549 \t 0.0028581648714845506\n",
      "1166 \t 0.002669208905008099\n",
      "2688 \t 0.0023843472728713416\n",
      "15 \t 0.002163159726354969\n",
      "1374 \t 0.002131987766043142\n",
      "\n",
      "top 10 authority scores :\n",
      "2565 \t 0.15769611748358103\n",
      "766 \t 0.13015243025685455\n",
      "1549 \t 0.12938941353080033\n",
      "1166 \t 0.11950594168986171\n",
      "2688 \t 0.11008403659853248\n",
      "457 \t 0.10999186611635883\n",
      "3352 \t 0.09179709631226124\n",
      "11 \t 0.08956574261869124\n",
      "1151 \t 0.08717924518500951\n",
      "1374 \t 0.08692950770481205\n",
      "\n",
      "top 10 hub scores :\n",
      "2565 \t 0.157696117537377\n",
      "766 \t 0.13015243029945367\n",
      "1549 \t 0.12938941344572305\n",
      "1166 \t 0.11950594165584667\n",
      "2688 \t 0.11008403661789759\n",
      "457 \t 0.10999186615700852\n",
      "3352 \t 0.09179709627666102\n",
      "11 \t 0.08956574247014454\n",
      "1151 \t 0.08717924513642718\n",
      "1374 \t 0.08692950771109112\n",
      "\n"
     ]
    }
   ],
   "source": [
    "rank = sortDict(rank, \"rank\")\n",
    "authority = sortDict(authority, \"authority\")\n",
    "hub = sortDict(hub, \"hub\")"
   ]
  },
  {
   "cell_type": "code",
   "execution_count": 91,
   "metadata": {},
   "outputs": [
    {
     "data": {
      "text/plain": [
       "['# Directed graph (each unordered pair of nodes is saved once): Wiki-Vote.txt \\n',\n",
       " '# Wikipedia voting on promotion to administratorship (till January 2008). Directed edge A->B means user A voted on B becoming Wikipedia administrator.\\n',\n",
       " ['Nodes', '7115', 'Edges', '103689']]"
      ]
     },
     "execution_count": 91,
     "metadata": {},
     "output_type": "execute_result"
    }
   ],
   "source": [
    "meta"
   ]
  },
  {
   "cell_type": "code",
   "execution_count": null,
   "metadata": {},
   "outputs": [],
   "source": []
  }
 ],
 "metadata": {
  "kernelspec": {
   "display_name": "Python 3",
   "language": "python",
   "name": "python3"
  },
  "language_info": {
   "codemirror_mode": {
    "name": "ipython",
    "version": 3
   },
   "file_extension": ".py",
   "mimetype": "text/x-python",
   "name": "python",
   "nbconvert_exporter": "python",
   "pygments_lexer": "ipython3",
   "version": "3.9.6"
  },
  "orig_nbformat": 4
 },
 "nbformat": 4,
 "nbformat_minor": 2
}
